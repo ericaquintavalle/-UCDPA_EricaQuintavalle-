{
 "cells": [
  {
   "cell_type": "code",
   "execution_count": 1,
   "id": "0bbe2167-47b2-4843-9317-612981cc00be",
   "metadata": {},
   "outputs": [],
   "source": [
    "#Import packages\n",
    "import pandas as pd\n",
    "import numpy as np\n",
    "import matplotlib.pyplot as plt\n",
    "import seaborn as sns"
   ]
  },
  {
   "cell_type": "code",
   "execution_count": 2,
   "id": "d72fc283-e0c5-4cab-ba1b-53082152ce22",
   "metadata": {},
   "outputs": [
    {
     "name": "stdout",
     "output_type": "stream",
     "text": [
      "                                        Name  \\\n",
      "0  L’Anse aux Meadows National Historic Site   \n",
      "1                      Nahanni National Park   \n",
      "2                          Galápagos Islands   \n",
      "3                              City of Quito   \n",
      "4                       Simien National Park   \n",
      "\n",
      "                                   short_description  date_inscribed  danger  \\\n",
      "0  <p>At the tip of the Great Northern Peninsula ...            1978       0   \n",
      "1  <p>Located along the South Nahanni River, one ...            1978       0   \n",
      "2  <p>Situated in the Pacific Ocean some 1,000 km...            1978       0   \n",
      "3  <p>Quito, the capital of Ecuador, was founded ...            1978       0   \n",
      "4  <p>Massive erosion over the years on the Ethio...            1978       0   \n",
      "\n",
      "   date_end   longitude   latitude  area_hectares category_long  \\\n",
      "0       NaN  -55.616667  51.466667        7991.00      Cultural   \n",
      "1       NaN -125.589444  61.547222      476560.00       Natural   \n",
      "2    2010.0  -90.501319  -0.689860    14066514.00       Natural   \n",
      "3       NaN  -78.512083  -0.220000          70.43      Cultural   \n",
      "4    2017.0   38.066667  13.183333       13600.00       Natural   \n",
      "\n",
      "  category_short Country name                           Region iso_code  \\\n",
      "0              C       Canada         Europe and North America       ca   \n",
      "1              N       Canada         Europe and North America       ca   \n",
      "2              N      Ecuador  Latin America and the Caribbean       ec   \n",
      "3              C      Ecuador  Latin America and the Caribbean       ec   \n",
      "4              N     Ethiopia                           Africa       et   \n",
      "\n",
      "   transboundary rev_bis  \n",
      "0              0     NaN  \n",
      "1              0     NaN  \n",
      "2              0     Bis  \n",
      "3              0     NaN  \n",
      "4              0     NaN  \n"
     ]
    }
   ],
   "source": [
    "#Import dataset\n",
    "unesco = pd.read_csv(\"/Users/erica.quintavalle/Desktop/whc-sites(tangibles)-2021.csv\")\n",
    "print(unesco.head())"
   ]
  },
  {
   "cell_type": "code",
   "execution_count": 3,
   "id": "378b72fb-91a0-4789-b791-fd3afacce296",
   "metadata": {},
   "outputs": [
    {
     "name": "stdout",
     "output_type": "stream",
     "text": [
      "<class 'pandas.core.frame.DataFrame'>\n",
      "RangeIndex: 1155 entries, 0 to 1154\n",
      "Data columns (total 15 columns):\n",
      " #   Column             Non-Null Count  Dtype  \n",
      "---  ------             --------------  -----  \n",
      " 0   Name               1155 non-null   object \n",
      " 1   short_description  1155 non-null   object \n",
      " 2   date_inscribed     1155 non-null   int64  \n",
      " 3   danger             1155 non-null   int64  \n",
      " 4   date_end           41 non-null     float64\n",
      " 5   longitude          1155 non-null   float64\n",
      " 6   latitude           1155 non-null   float64\n",
      " 7   area_hectares      1135 non-null   float64\n",
      " 8   category_long      1155 non-null   object \n",
      " 9   category_short     1155 non-null   object \n",
      " 10  Country name       1155 non-null   object \n",
      " 11  Region             1155 non-null   object \n",
      " 12  iso_code           1154 non-null   object \n",
      " 13  transboundary      1155 non-null   int64  \n",
      " 14  rev_bis            263 non-null    object \n",
      "dtypes: float64(4), int64(3), object(8)\n",
      "memory usage: 135.5+ KB\n",
      "None\n",
      "(1155, 15)\n"
     ]
    }
   ],
   "source": [
    "#First exploration of the dataset\n",
    "print(unesco.info())\n",
    "print(unesco.shape)"
   ]
  },
  {
   "cell_type": "code",
   "execution_count": 4,
   "id": "34c7d081-195d-4381-8864-958dd34b03ca",
   "metadata": {},
   "outputs": [
    {
     "name": "stdout",
     "output_type": "stream",
     "text": [
      "                                        Name  date_inscribed  danger  \\\n",
      "0  L’Anse aux Meadows National Historic Site            1978       0   \n",
      "1                      Nahanni National Park            1978       0   \n",
      "2                          Galápagos Islands            1978       0   \n",
      "3                              City of Quito            1978       0   \n",
      "4                       Simien National Park            1978       0   \n",
      "\n",
      "   date_end   longitude   latitude  area_hectares category_long  \\\n",
      "0       NaN  -55.616667  51.466667        7991.00      Cultural   \n",
      "1       NaN -125.589444  61.547222      476560.00       Natural   \n",
      "2    2010.0  -90.501319  -0.689860    14066514.00       Natural   \n",
      "3       NaN  -78.512083  -0.220000          70.43      Cultural   \n",
      "4    2017.0   38.066667  13.183333       13600.00       Natural   \n",
      "\n",
      "  category_short Country name                           Region iso_code  \n",
      "0              C       Canada         Europe and North America       ca  \n",
      "1              N       Canada         Europe and North America       ca  \n",
      "2              N      Ecuador  Latin America and the Caribbean       ec  \n",
      "3              C      Ecuador  Latin America and the Caribbean       ec  \n",
      "4              N     Ethiopia                           Africa       et  \n"
     ]
    }
   ],
   "source": [
    "#Delete unnecessary columns\n",
    "unesco = unesco.drop([\"short_description\", \"transboundary\", \"rev_bis\"], axis=1)\n",
    "print(unesco.head())"
   ]
  },
  {
   "cell_type": "code",
   "execution_count": 5,
   "id": "8f300dc4-427a-4048-b144-93efc37034a2",
   "metadata": {},
   "outputs": [
    {
     "data": {
      "text/plain": [
       "Name                 0\n",
       "date_inscribed       0\n",
       "danger               0\n",
       "date_end          1114\n",
       "longitude            0\n",
       "latitude             0\n",
       "area_hectares       20\n",
       "category_long        0\n",
       "category_short       0\n",
       "Country name         0\n",
       "Region               0\n",
       "iso_code             1\n",
       "dtype: int64"
      ]
     },
     "execution_count": 5,
     "metadata": {},
     "output_type": "execute_result"
    }
   ],
   "source": [
    "#Missing values\n",
    "unesco.isna().sum()"
   ]
  },
  {
   "cell_type": "code",
   "execution_count": 6,
   "id": "23af82c1-e497-4a3e-9c3f-76cdab959b51",
   "metadata": {},
   "outputs": [
    {
     "name": "stdout",
     "output_type": "stream",
     "text": [
      "(1134, 12)\n"
     ]
    }
   ],
   "source": [
    "#We can't drop all missing values, but we drop missing values for some columns.\n",
    "unesco_clean = unesco.dropna(subset=['iso_code', 'area_hectares'])\n",
    "print(unesco_clean.shape)"
   ]
  },
  {
   "cell_type": "code",
   "execution_count": 7,
   "id": "e32d1e50-dc08-4de1-8b56-72b980e944b3",
   "metadata": {},
   "outputs": [
    {
     "name": "stdout",
     "output_type": "stream",
     "text": [
      "                            Region  Region_area\n",
      "0         Europe and North America        34.89\n",
      "1  Latin America and the Caribbean        20.39\n",
      "2                           Africa        30.22\n",
      "3                      Arab States        13.13\n",
      "4             Asia and the Pacific       209.83\n"
     ]
    }
   ],
   "source": [
    "#We will now merge our DataFrame with another DD containing the aread of each Region (in million sq km)\n",
    "#The areas were extracted manually from wikipedia.en\n",
    "\n",
    "region_area_dict = {\"Europe and North America\" : 34.89, \"Latin America and the Caribbean\" : 20.39, \"Africa\" : 30.22, \"Arab States\" : 13.13, \"Asia and the Pacific\" : 209.83}\n",
    "region_area_df = pd.DataFrame(\n",
    "                [{\"Region\": key, \"Region_area\": value} for key, value in region_area_dict.items()])\n",
    "print(region_area_df)"
   ]
  },
  {
   "cell_type": "code",
   "execution_count": 8,
   "id": "ce668a76-d444-4c4c-93e7-274238626bf7",
   "metadata": {},
   "outputs": [
    {
     "name": "stdout",
     "output_type": "stream",
     "text": [
      "                                        Name  date_inscribed  danger  \\\n",
      "0  L’Anse aux Meadows National Historic Site            1978       0   \n",
      "1                      Nahanni National Park            1978       0   \n",
      "2                          Aachen Cathedral             1978       0   \n",
      "3                  Historic Centre of Kraków            1978       0   \n",
      "4     Wieliczka and Bochnia Royal Salt Mines            1978       0   \n",
      "\n",
      "   date_end   longitude   latitude  area_hectares category_long  \\\n",
      "0       NaN  -55.616667  51.466667       7991.000      Cultural   \n",
      "1       NaN -125.589444  61.547222     476560.000       Natural   \n",
      "2       NaN    6.084444  50.774444          0.200      Cultural   \n",
      "3       NaN   19.937222  50.061389        149.650      Cultural   \n",
      "4    1998.0   20.063889  49.979167       1104.947      Cultural   \n",
      "\n",
      "  category_short Country name                    Region iso_code  Region_area  \n",
      "0              C       Canada  Europe and North America       ca        34.89  \n",
      "1              N       Canada  Europe and North America       ca        34.89  \n",
      "2              C      Germany  Europe and North America       de        34.89  \n",
      "3              C       Poland  Europe and North America       pl        34.89  \n",
      "4              C       Poland  Europe and North America       pl        34.89  \n"
     ]
    }
   ],
   "source": [
    "unesco_final = unesco_clean.merge(region_area_df, on=\"Region\")\n",
    "print(unesco_final.head())"
   ]
  },
  {
   "cell_type": "code",
   "execution_count": 9,
   "id": "68e4a1be-c9c3-4ea2-bd2d-af02e562e2b0",
   "metadata": {},
   "outputs": [
    {
     "name": "stdout",
     "output_type": "stream",
     "text": [
      "                                        Name  date_inscribed  danger  \\\n",
      "0  L’Anse aux Meadows National Historic Site            1978       0   \n",
      "1                      Nahanni National Park            1978       0   \n",
      "2                          Aachen Cathedral             1978       0   \n",
      "3                  Historic Centre of Kraków            1978       0   \n",
      "4     Wieliczka and Bochnia Royal Salt Mines            1978       0   \n",
      "\n",
      "   date_end   longitude   latitude  area_hectares category_long  \\\n",
      "0       NaN  -55.616667  51.466667       7991.000      Cultural   \n",
      "1       NaN -125.589444  61.547222     476560.000       Natural   \n",
      "2       NaN    6.084444  50.774444          0.200      Cultural   \n",
      "3       NaN   19.937222  50.061389        149.650      Cultural   \n",
      "4    1998.0   20.063889  49.979167       1104.947      Cultural   \n",
      "\n",
      "  category_short Country name                    Region iso_code  Region_area  \\\n",
      "0              C       Canada  Europe and North America       ca        34.89   \n",
      "1              N       Canada  Europe and North America       ca        34.89   \n",
      "2              C      Germany  Europe and North America       de        34.89   \n",
      "3              C       Poland  Europe and North America       pl        34.89   \n",
      "4              C       Poland  Europe and North America       pl        34.89   \n",
      "\n",
      "     area_sq_km  \n",
      "0  7.991000e-11  \n",
      "1  4.765600e-09  \n",
      "2  2.000000e-15  \n",
      "3  1.496500e-12  \n",
      "4  1.104947e-11  \n"
     ]
    }
   ],
   "source": [
    "#Adding a column\n",
    "unesco_final[\"area_sq_km\"] = unesco_final[\"area_hectares\"] * (10 ** -14)\n",
    "print(unesco_final.head())"
   ]
  },
  {
   "cell_type": "code",
   "execution_count": 10,
   "id": "6bc1cc49-4b62-4e30-b61d-fce40849f9db",
   "metadata": {},
   "outputs": [
    {
     "name": "stdout",
     "output_type": "stream",
     "text": [
      "                                                                                      Name  \\\n",
      "Region                   date_inscribed                                                      \n",
      "Europe and North America 1978                    L’Anse aux Meadows National Historic Site   \n",
      "                         1978                                        Nahanni National Park   \n",
      "                         1978                                            Aachen Cathedral    \n",
      "                         1978                                    Historic Centre of Kraków   \n",
      "                         1978                       Wieliczka and Bochnia Royal Salt Mines   \n",
      "...                                                                                    ...   \n",
      "Asia and the Pacific     2021                      Cultural Landscape of Hawraman/Uramanat   \n",
      "                         2021            Amami-Oshima Island, Tokunoshima Island, North...   \n",
      "                         2021                    Jomon Prehistoric Sites in Northern Japan   \n",
      "                         2021                                   Getbol, Korean Tidal Flats   \n",
      "                         2021                                 Kaeng Krachan Forest Complex   \n",
      "\n",
      "                                         danger  date_end   longitude  \\\n",
      "Region                   date_inscribed                                 \n",
      "Europe and North America 1978                 0       NaN  -55.616667   \n",
      "                         1978                 0       NaN -125.589444   \n",
      "                         1978                 0       NaN    6.084444   \n",
      "                         1978                 0       NaN   19.937222   \n",
      "                         1978                 0    1998.0   20.063889   \n",
      "...                                         ...       ...         ...   \n",
      "Asia and the Pacific     2021                 0       NaN   46.477850   \n",
      "                         2021                 0       NaN  129.378333   \n",
      "                         2021                 0       NaN  140.552217   \n",
      "                         2021                 0       NaN  126.104444   \n",
      "                         2021                 0       NaN   99.400167   \n",
      "\n",
      "                                          latitude  area_hectares  \\\n",
      "Region                   date_inscribed                             \n",
      "Europe and North America 1978            51.466667       7991.000   \n",
      "                         1978            61.547222     476560.000   \n",
      "                         1978            50.774444          0.200   \n",
      "                         1978            50.061389        149.650   \n",
      "                         1978            49.979167       1104.947   \n",
      "...                                            ...            ...   \n",
      "Asia and the Pacific     2021            35.107358     106307.000   \n",
      "                         2021            28.279167      42698.000   \n",
      "                         2021            41.065556        141.900   \n",
      "                         2021            34.828822     128411.000   \n",
      "                         2021            12.865667     408940.000   \n",
      "\n",
      "                                        category_long category_short  \\\n",
      "Region                   date_inscribed                                \n",
      "Europe and North America 1978                Cultural              C   \n",
      "                         1978                 Natural              N   \n",
      "                         1978                Cultural              C   \n",
      "                         1978                Cultural              C   \n",
      "                         1978                Cultural              C   \n",
      "...                                               ...            ...   \n",
      "Asia and the Pacific     2021                Cultural              C   \n",
      "                         2021                 Natural              N   \n",
      "                         2021                Cultural              C   \n",
      "                         2021                 Natural              N   \n",
      "                         2021                 Natural              N   \n",
      "\n",
      "                                                       Country name iso_code  \\\n",
      "Region                   date_inscribed                                        \n",
      "Europe and North America 1978                                Canada       ca   \n",
      "                         1978                                Canada       ca   \n",
      "                         1978                               Germany       de   \n",
      "                         1978                                Poland       pl   \n",
      "                         1978                                Poland       pl   \n",
      "...                                                             ...      ...   \n",
      "Asia and the Pacific     2021            Iran (Islamic Republic of)       ir   \n",
      "                         2021                                 Japan       jp   \n",
      "                         2021                                 Japan       jp   \n",
      "                         2021                     Republic of Korea       kr   \n",
      "                         2021                              Thailand       th   \n",
      "\n",
      "                                         Region_area    area_sq_km  \n",
      "Region                   date_inscribed                             \n",
      "Europe and North America 1978                  34.89  7.991000e-11  \n",
      "                         1978                  34.89  4.765600e-09  \n",
      "                         1978                  34.89  2.000000e-15  \n",
      "                         1978                  34.89  1.496500e-12  \n",
      "                         1978                  34.89  1.104947e-11  \n",
      "...                                              ...           ...  \n",
      "Asia and the Pacific     2021                 209.83  1.063070e-09  \n",
      "                         2021                 209.83  4.269800e-10  \n",
      "                         2021                 209.83  1.419000e-12  \n",
      "                         2021                 209.83  1.284110e-09  \n",
      "                         2021                 209.83  4.089400e-09  \n",
      "\n",
      "[1131 rows x 12 columns]\n"
     ]
    }
   ],
   "source": [
    "#Indexing and sorting in descending order\n",
    "unesco_ind = unesco_final.set_index([\"Region\", \"date_inscribed\"])\n",
    "unesco_ind.sort_index()\n",
    "print(unesco_ind)"
   ]
  },
  {
   "cell_type": "code",
   "execution_count": 11,
   "id": "e310fae6-5f25-4a2f-8220-537db26784c1",
   "metadata": {},
   "outputs": [
    {
     "name": "stdout",
     "output_type": "stream",
     "text": [
      "Region\n",
      "Africa                             15\n",
      "Arab States                        18\n",
      "Asia and the Pacific                6\n",
      "Europe and North America            3\n",
      "Latin America and the Caribbean     6\n",
      "Name: danger, dtype: int64\n"
     ]
    }
   ],
   "source": [
    "#How many endagered sites per Region?\n",
    "unesco_danger_per_region = unesco_final.groupby(\"Region\")[\"danger\"].agg(sum)\n",
    "print(unesco_danger_per_region)"
   ]
  },
  {
   "cell_type": "code",
   "execution_count": 12,
   "id": "dc152792-814d-40c3-9184-ce283142cefb",
   "metadata": {},
   "outputs": [
    {
     "name": "stdout",
     "output_type": "stream",
     "text": [
      "                                                  Name  date_inscribed  \\\n",
      "756                           Konso Cultural Landscape            2011   \n",
      "757         Kenya Lake System in the Great Rift Valley            2011   \n",
      "758                                Fort Jesus, Mombasa            2011   \n",
      "759                                       Saloum Delta            2011   \n",
      "760                                  Lakes of Ounianga            2012   \n",
      "761                      Historic Town of Grand-Bassam            2012   \n",
      "762  Bassari Country: Bassari, Fula and Bedik Cultu...            2012   \n",
      "763                                 Sangha Trinational            2012   \n",
      "764                                     Namib Sand Sea            2013   \n",
      "765                          Historic Centre of Agadez            2013   \n",
      "766                                     Okavango Delta            2014   \n",
      "767      Ennedi Massif: Natural and Cultural Landscape            2016   \n",
      "768  Mbanza Kongo, Vestiges of the Capital of the f...            2017   \n",
      "769                   Asmara: A Modernist African City            2017   \n",
      "770                        ǂKhomani Cultural Landscape            2017   \n",
      "771                Thimlich Ohinga Archaeological Site            2018   \n",
      "772                      Barberton Makhonjwa Mountains            2018   \n",
      "773   Ancient Ferrous Metallurgy Sites of Burkina Faso            2019   \n",
      "774   Sudanese style mosques in northern Côte d’Ivoire            2021   \n",
      "775                               Ivindo National Park            2021   \n",
      "\n",
      "     danger  date_end  longitude   latitude  area_hectares category_long  \\\n",
      "756       0       NaN  37.400000   5.300000   2.300000e+04      Cultural   \n",
      "757       0       NaN  36.240000  -0.442500   3.203400e+04       Natural   \n",
      "758       0       NaN  39.679444  -4.062778   2.360000e+00      Cultural   \n",
      "759       0       NaN -16.498611  13.835278   1.458110e+05      Cultural   \n",
      "760       0       NaN  20.505556  19.055000   6.280800e+04       Natural   \n",
      "761       0       NaN  -3.736389   5.195833   1.098900e+02      Cultural   \n",
      "762       0       NaN -12.845833  12.593333   5.030900e+04      Cultural   \n",
      "763       0       NaN  16.554167   2.609444   7.463090e+05       Natural   \n",
      "764       0       NaN  15.407778 -24.885278   3.077700e+06       Natural   \n",
      "765       0       NaN   7.991389  16.973611   7.760000e+01      Cultural   \n",
      "766       0       NaN  22.900000 -19.283333   2.023590e+06       Natural   \n",
      "767       0       NaN  21.862778  17.041667   2.441200e+06         Mixed   \n",
      "768       0       NaN  14.249722  -6.268889   8.929000e+01      Cultural   \n",
      "769       0       NaN  38.935833  15.335278   4.810000e+02      Cultural   \n",
      "770       0       NaN  20.374583 -25.687611   9.591000e+05      Cultural   \n",
      "771       0       NaN  34.326107  -0.891338   2.100000e+01      Cultural   \n",
      "772       0       NaN  31.013889 -25.973889   1.131370e+05       Natural   \n",
      "773       0       NaN  -3.328986  12.587758   1.223000e+02      Cultural   \n",
      "774       0       NaN  -6.410167  10.490317   1.298000e-01      Cultural   \n",
      "775       0       NaN  12.640833   0.406111   2.987580e+05       Natural   \n",
      "\n",
      "    category_short                             Country name  Region  iso_code  \\\n",
      "756              C                                 Ethiopia  Africa        et   \n",
      "757              N                                    Kenya  Africa        ke   \n",
      "758              C                                    Kenya  Africa        ke   \n",
      "759              C                                  Senegal  Africa        sn   \n",
      "760              N                                     Chad  Africa        td   \n",
      "761              C                            Côte d'Ivoire  Africa        ci   \n",
      "762              C                                  Senegal  Africa        sn   \n",
      "763              N  Cameroon,Central African Republic,Congo  Africa  cf,cg,cm   \n",
      "764              N                                  Namibia  Africa        na   \n",
      "765              C                                    Niger  Africa        ne   \n",
      "766              N                                 Botswana  Africa        bw   \n",
      "767            C/N                                     Chad  Africa        td   \n",
      "768              C                                   Angola  Africa        ao   \n",
      "769              C                                  Eritrea  Africa        er   \n",
      "770              C                             South Africa  Africa        za   \n",
      "771              C                                    Kenya  Africa        ke   \n",
      "772              N                             South Africa  Africa        za   \n",
      "773              C                             Burkina Faso  Africa        bf   \n",
      "774              C                            Côte d'Ivoire  Africa        ci   \n",
      "775              N                                    Gabon  Africa        ga   \n",
      "\n",
      "     Region_area    area_sq_km  \n",
      "756        30.22  2.300000e-10  \n",
      "757        30.22  3.203400e-10  \n",
      "758        30.22  2.360000e-14  \n",
      "759        30.22  1.458110e-09  \n",
      "760        30.22  6.280800e-10  \n",
      "761        30.22  1.098900e-12  \n",
      "762        30.22  5.030900e-10  \n",
      "763        30.22  7.463090e-09  \n",
      "764        30.22  3.077700e-08  \n",
      "765        30.22  7.760000e-13  \n",
      "766        30.22  2.023590e-08  \n",
      "767        30.22  2.441200e-08  \n",
      "768        30.22  8.929000e-13  \n",
      "769        30.22  4.810000e-12  \n",
      "770        30.22  9.591000e-09  \n",
      "771        30.22  2.100000e-13  \n",
      "772        30.22  1.131370e-09  \n",
      "773        30.22  1.223000e-12  \n",
      "774        30.22  1.298000e-15  \n",
      "775        30.22  2.987580e-09  \n"
     ]
    }
   ],
   "source": [
    "#Subsetting through NumPy: how many African UNESCO sites were inscribed in the last 10 years?\n",
    "unesco_africa_since_2011 = unesco_final[np.logical_and(unesco_final[\"Region\"] == \"Africa\", unesco_final[\"date_inscribed\"] >= 2011)]\n",
    "print(unesco_africa_since_2011)"
   ]
  },
  {
   "cell_type": "code",
   "execution_count": 13,
   "id": "b045ae59-1c1f-40a5-b242-3003492b6e3a",
   "metadata": {},
   "outputs": [
    {
     "data": {
      "text/html": [
       "<div>\n",
       "<style scoped>\n",
       "    .dataframe tbody tr th:only-of-type {\n",
       "        vertical-align: middle;\n",
       "    }\n",
       "\n",
       "    .dataframe tbody tr th {\n",
       "        vertical-align: top;\n",
       "    }\n",
       "\n",
       "    .dataframe thead th {\n",
       "        text-align: right;\n",
       "    }\n",
       "</style>\n",
       "<table border=\"1\" class=\"dataframe\">\n",
       "  <thead>\n",
       "    <tr style=\"text-align: right;\">\n",
       "      <th></th>\n",
       "      <th></th>\n",
       "      <th>Name</th>\n",
       "      <th>date_inscribed</th>\n",
       "      <th>danger</th>\n",
       "      <th>date_end</th>\n",
       "      <th>longitude</th>\n",
       "      <th>latitude</th>\n",
       "      <th>area_hectares</th>\n",
       "      <th>category_short</th>\n",
       "      <th>Region</th>\n",
       "      <th>iso_code</th>\n",
       "      <th>Region_area</th>\n",
       "      <th>area_sq_km</th>\n",
       "    </tr>\n",
       "    <tr>\n",
       "      <th>category_long</th>\n",
       "      <th>Country name</th>\n",
       "      <th></th>\n",
       "      <th></th>\n",
       "      <th></th>\n",
       "      <th></th>\n",
       "      <th></th>\n",
       "      <th></th>\n",
       "      <th></th>\n",
       "      <th></th>\n",
       "      <th></th>\n",
       "      <th></th>\n",
       "      <th></th>\n",
       "      <th></th>\n",
       "    </tr>\n",
       "  </thead>\n",
       "  <tbody>\n",
       "    <tr>\n",
       "      <th rowspan=\"3\" valign=\"top\">Natural</th>\n",
       "      <th>Italy</th>\n",
       "      <td>Isole Eolie (Aeolian Islands)</td>\n",
       "      <td>2000</td>\n",
       "      <td>0</td>\n",
       "      <td>NaN</td>\n",
       "      <td>14.945583</td>\n",
       "      <td>38.487861</td>\n",
       "      <td>1216.0</td>\n",
       "      <td>N</td>\n",
       "      <td>Europe and North America</td>\n",
       "      <td>it</td>\n",
       "      <td>34.89</td>\n",
       "      <td>1.216000e-11</td>\n",
       "    </tr>\n",
       "    <tr>\n",
       "      <th>Italy</th>\n",
       "      <td>The Dolomites</td>\n",
       "      <td>2009</td>\n",
       "      <td>0</td>\n",
       "      <td>NaN</td>\n",
       "      <td>12.163056</td>\n",
       "      <td>46.613056</td>\n",
       "      <td>141902.8</td>\n",
       "      <td>N</td>\n",
       "      <td>Europe and North America</td>\n",
       "      <td>it</td>\n",
       "      <td>34.89</td>\n",
       "      <td>1.419028e-09</td>\n",
       "    </tr>\n",
       "    <tr>\n",
       "      <th>Italy</th>\n",
       "      <td>Mount Etna</td>\n",
       "      <td>2013</td>\n",
       "      <td>0</td>\n",
       "      <td>NaN</td>\n",
       "      <td>14.996667</td>\n",
       "      <td>37.756111</td>\n",
       "      <td>19237.0</td>\n",
       "      <td>N</td>\n",
       "      <td>Europe and North America</td>\n",
       "      <td>it</td>\n",
       "      <td>34.89</td>\n",
       "      <td>1.923700e-10</td>\n",
       "    </tr>\n",
       "  </tbody>\n",
       "</table>\n",
       "</div>"
      ],
      "text/plain": [
       "                                                     Name  date_inscribed  \\\n",
       "category_long Country name                                                  \n",
       "Natural       Italy         Isole Eolie (Aeolian Islands)            2000   \n",
       "              Italy                         The Dolomites            2009   \n",
       "              Italy                            Mount Etna            2013   \n",
       "\n",
       "                            danger  date_end  longitude   latitude  \\\n",
       "category_long Country name                                           \n",
       "Natural       Italy              0       NaN  14.945583  38.487861   \n",
       "              Italy              0       NaN  12.163056  46.613056   \n",
       "              Italy              0       NaN  14.996667  37.756111   \n",
       "\n",
       "                            area_hectares category_short  \\\n",
       "category_long Country name                                 \n",
       "Natural       Italy                1216.0              N   \n",
       "              Italy              141902.8              N   \n",
       "              Italy               19237.0              N   \n",
       "\n",
       "                                              Region iso_code  Region_area  \\\n",
       "category_long Country name                                                   \n",
       "Natural       Italy         Europe and North America       it        34.89   \n",
       "              Italy         Europe and North America       it        34.89   \n",
       "              Italy         Europe and North America       it        34.89   \n",
       "\n",
       "                              area_sq_km  \n",
       "category_long Country name                \n",
       "Natural       Italy         1.216000e-11  \n",
       "              Italy         1.419028e-09  \n",
       "              Italy         1.923700e-10  "
      ]
     },
     "execution_count": 13,
     "metadata": {},
     "output_type": "execute_result"
    }
   ],
   "source": [
    "#Slicing through loc/iloc: which are the natural UNESCO sites in Italy?\n",
    "unesco_srt = unesco_final.set_index([\"category_long\", 'Country name']).sort_index()\n",
    "unesco_srt.loc[\"Natural\", \"Italy\"]"
   ]
  },
  {
   "cell_type": "code",
   "execution_count": 14,
   "id": "083acad4-9dfd-431a-b1fa-14a7ca5f3665",
   "metadata": {},
   "outputs": [
    {
     "data": {
      "text/plain": [
       "Europe and North America           12\n",
       "Asia and the Pacific                9\n",
       "Latin America and the Caribbean     4\n",
       "Arab States                         2\n",
       "Africa                              2\n",
       "Name: Region, dtype: int64"
      ]
     },
     "execution_count": 14,
     "metadata": {},
     "output_type": "execute_result"
    }
   ],
   "source": [
    "#Looping & dictionaries\n",
    "unesco_2021 = unesco_final[unesco_final[\"date_inscribed\"] == 2021]\n",
    "unesco_2021[\"Region\"].value_counts()"
   ]
  },
  {
   "cell_type": "code",
   "execution_count": 15,
   "id": "42cff064-604c-4dbe-ad5d-897d32f57b8b",
   "metadata": {},
   "outputs": [
    {
     "name": "stdout",
     "output_type": "stream",
     "text": [
      "In 2021, the percentage of UNESCO sites in Latin America and the Caribbean was 13.793103448275861\n",
      "In 2021, the percentage of UNESCO sites in Asia and the Pacific was 31.03448275862069\n",
      "In 2021, the percentage of UNESCO sites in Africa was 6.896551724137931\n",
      "In 2021, the percentage of UNESCO sites in Europe and North America was 41.37931034482759\n",
      "In 2021, the percentage of UNESCO sites in Arab States was 6.896551724137931\n"
     ]
    }
   ],
   "source": [
    "Regions_2021 = {\"Latin America and the Caribbean\": 4, \"Asia and the Pacific\": 9, \"Africa\": 2, \"Europe and North America\": 12, \"Arab States\":2}\n",
    "\n",
    "for key, value in Regions_2021.items():\n",
    "    print(\"In 2021, the percentage of UNESCO sites in \" + key + \" was \" + str(value/29*100))"
   ]
  },
  {
   "cell_type": "code",
   "execution_count": 16,
   "id": "5111def1-bc1a-4291-a554-0cb8b74bce83",
   "metadata": {},
   "outputs": [
    {
     "name": "stdout",
     "output_type": "stream",
     "text": [
      "520\n",
      "521\n",
      "522\n",
      "523\n",
      "524\n",
      "525\n",
      "526\n",
      "527\n",
      "528\n",
      "529\n",
      "530\n",
      "531\n",
      "674\n",
      "675\n",
      "676\n",
      "677\n",
      "774\n",
      "775\n",
      "856\n",
      "857\n",
      "1122\n",
      "1123\n",
      "1124\n",
      "1125\n",
      "1126\n",
      "1127\n",
      "1128\n",
      "1129\n",
      "1130\n"
     ]
    }
   ],
   "source": [
    "#Iterrows\n",
    "for i, row in unesco_2021.iterrows():\n",
    "    print(i)"
   ]
  },
  {
   "cell_type": "code",
   "execution_count": 17,
   "id": "dbf38aec-03c6-4db7-834c-1f178b3ab774",
   "metadata": {},
   "outputs": [
    {
     "name": "stdout",
     "output_type": "stream",
     "text": [
      "For the first time in 2013 a UNESCO site was added in Fiji\n",
      "None\n"
     ]
    }
   ],
   "source": [
    "#Custom function \n",
    "def welcome_new(year, country):  \n",
    "    print ('For the first time in', year, 'a UNESCO site was added in', country)\n",
    "\n",
    "print(welcome_new(2013, 'Fiji'))"
   ]
  },
  {
   "cell_type": "code",
   "execution_count": 18,
   "id": "fb6cc520-224f-4153-ae23-cdc02151dfbb",
   "metadata": {},
   "outputs": [
    {
     "data": {
      "text/plain": [
       "Europe and North America           532\n",
       "Asia and the Pacific               273\n",
       "Latin America and the Caribbean    146\n",
       "Africa                              98\n",
       "Arab States                         82\n",
       "Name: Region, dtype: int64"
      ]
     },
     "execution_count": 18,
     "metadata": {},
     "output_type": "execute_result"
    }
   ],
   "source": [
    "#Figure 1: how many UNESCO sites per Region? We use a pie chart, where the slices are ordered and plotted counter-clockwise:\n",
    "unesco_final[\"Region\"].value_counts()"
   ]
  },
  {
   "cell_type": "code",
   "execution_count": 19,
   "id": "577feea2-9552-4ff7-aa72-95c5b50f5e43",
   "metadata": {},
   "outputs": [
    {
     "data": {
      "image/png": "[encoded data removed]",
      "text/plain": [
       "<Figure size 432x288 with 1 Axes>"
      ]
     },
     "metadata": {},
     "output_type": "display_data"
    },
    {
     "data": {
      "text/plain": [
       "<Figure size 432x288 with 0 Axes>"
      ]
     },
     "metadata": {},
     "output_type": "display_data"
    }
   ],
   "source": [
    "labels = [\"Europe and North America\", \"Asia and the Pacific\", \"Latin America and the Caribbean\", \"Africa\", \"Arab States\"]\n",
    "sizes = [532, 273, 146, 98, 82]\n",
    "\n",
    "fig1, ax1 = plt.subplots()\n",
    "f1 = ax1.pie(sizes, labels=labels, colors=['r', 'c', 'y', 'g', 'm'], autopct='%1.1f%%', startangle=90)\n",
    "ax1.axis('equal')\n",
    "\n",
    "plt.show()\n",
    "plt.tight_layout()\n",
    "plt.savefig(\"Figure1.png\")"
   ]
  },
  {
   "cell_type": "code",
   "execution_count": 20,
   "id": "84815cd0-f914-41fd-b268-6b395b84364e",
   "metadata": {},
   "outputs": [
    {
     "data": {
      "image/png": "[encoded data removed]",
      "text/plain": [
       "<Figure size 432x288 with 1 Axes>"
      ]
     },
     "metadata": {
      "needs_background": "light"
     },
     "output_type": "display_data"
    },
    {
     "data": {
      "text/plain": [
       "<Figure size 432x288 with 0 Axes>"
      ]
     },
     "metadata": {},
     "output_type": "display_data"
    }
   ],
   "source": [
    "#Figure 2: Is there a correlation between the UNESCO site area and the Region area? Are larger sites in larger regions?\n",
    "fig, ax = plt.subplots()\n",
    "sns.set_style(\"darkgrid\")\n",
    "\n",
    "f2 = sns.scatterplot(x=\"Region_area\", y=\"area_sq_km\", data=unesco_final, hue=\"Region\", palette=\"tab10\", alpha=0.7)\n",
    "ax.set(xlabel=\"Region area (in million sq km)\", ylabel=\"UNESCO site area (in million sq km)\", title=\"Correlation between the areas of UNESCO sites and the Region they are in\")\n",
    "ax.title.set_position([1,1.2])\n",
    "plt.legend(bbox_to_anchor=(1.7, 1), loc=\"upper right\")\n",
    "plt.show()\n",
    "plt.savefig(\"Figure2.png\", dpi=500)"
   ]
  },
  {
   "cell_type": "code",
   "execution_count": 21,
   "id": "225d0115-1f27-47b5-9194-3444c60f85bf",
   "metadata": {},
   "outputs": [
    {
     "data": {
      "image/png": "[encoded data removed]",
      "text/plain": [
       "<Figure size 432x288 with 1 Axes>"
      ]
     },
     "metadata": {},
     "output_type": "display_data"
    },
    {
     "data": {
      "text/plain": [
       "<Figure size 432x288 with 0 Axes>"
      ]
     },
     "metadata": {},
     "output_type": "display_data"
    }
   ],
   "source": [
    "#Figure 3: In which Region do we find more endangered sites?\n",
    "\n",
    "unesco_final_endangered = unesco_final[(unesco_final['danger'] == 1)]\n",
    "sns.set_theme(style=\"darkgrid\")\n",
    "\n",
    "f3 = sns.countplot(y=\"Region\", data=unesco_final_endangered)\n",
    "f3.set_title(\"Endangered sites per Region\")\n",
    "f3.set(xlabel=\"Nr. of endangered sites\", ylabel=\"Region\")\n",
    "plt.show()\n",
    "plt.savefig(\"Figure3.png\", dpi=500)\n"
   ]
  },
  {
   "cell_type": "code",
   "execution_count": 22,
   "id": "ab12071b-371c-438d-9970-6318ad7b0d29",
   "metadata": {},
   "outputs": [
    {
     "data": {
      "image/png": "[encoded data removed]",
      "text/plain": [
       "<Figure size 432x288 with 1 Axes>"
      ]
     },
     "metadata": {},
     "output_type": "display_data"
    },
    {
     "data": {
      "text/plain": [
       "<Figure size 432x288 with 0 Axes>"
      ]
     },
     "metadata": {},
     "output_type": "display_data"
    }
   ],
   "source": [
    "#Figure 4: How many sites per Region were added through the years? Is there homogeneity among the Regions?\n",
    "#Besides, is the number of added sites within the Region stable through the years?\n",
    "\n",
    "ax, fig = plt.subplots()\n",
    "\n",
    "unesco_africa = unesco_final[unesco_final[\"Region\"] == 'Africa']\n",
    "unesco_asia = unesco_final[unesco_final[\"Region\"] == 'Asia and the Pacific']\n",
    "unesco_europe = unesco_final[unesco_final[\"Region\"] == 'Europe and North America']\n",
    "unesco_latinamerica = unesco_final[unesco_final[\"Region\"] == 'Latin America and the Caribbean']\n",
    "unesco_arabstates = unesco_final[unesco_final[\"Region\"] == 'Arab States']\n",
    "\n",
    "unesco_africa.groupby(unesco_africa['date_inscribed']).size().plot()\n",
    "unesco_asia.groupby(unesco_asia['date_inscribed']).size().plot()\n",
    "unesco_europe.groupby(unesco_europe['date_inscribed']).size().plot()\n",
    "unesco_latinamerica.groupby(unesco_latinamerica['date_inscribed']).size().plot()\n",
    "unesco_arabstates.groupby(unesco_arabstates['date_inscribed']).size().plot()\n",
    "\n",
    "plt.title(\"Nr. of UNESCO sites added each year per Region\")\n",
    "plt.ylabel(\"Nr. of UNESCO sites added\")\n",
    "plt.xlabel(\"Time (years)\")\n",
    "ax.legend(['Africa', 'Asia and the Pacific', 'Europe and North America', 'Latin America and the Caribbean', 'Arab States'], loc=\"lower center\", bbox_to_anchor=(0.5, -0.20), ncol= 2)\n",
    "plt.show()\n",
    "plt.savefig(\"Figure4.png\", dpi=500)"
   ]
  },
  {
   "cell_type": "code",
   "execution_count": 23,
   "id": "88e690f5-028e-4b19-a29a-1419125223aa",
   "metadata": {},
   "outputs": [
    {
     "data": {
      "image/png": "[encoded data removed]",
      "text/plain": [
       "<Figure size 432x288 with 1 Axes>"
      ]
     },
     "metadata": {},
     "output_type": "display_data"
    },
    {
     "data": {
      "text/plain": [
       "<Figure size 432x288 with 0 Axes>"
      ]
     },
     "metadata": {},
     "output_type": "display_data"
    }
   ],
   "source": [
    "#Figure 5: What categories of sites do we find in the Regions?\n",
    "\n",
    "sns.set_theme(style=\"whitegrid\")\n",
    "f5 = sns.countplot(x=\"Region\", hue=\"category_long\", data=unesco_final)\n",
    "plt.xticks(rotation='vertical')\n",
    "\n",
    "f5.set(title=\"Nr. of UNESCO sites per category, per Region\", xlabel=\"Region\", ylabel=\"count\")\n",
    "plt.legend(title=\"Category of the UNESCO sites\")\n",
    "\n",
    "plt.show()\n",
    "plt.savefig(\"Figure5.png\", dpi=500)"
   ]
  },
  {
   "cell_type": "code",
   "execution_count": null,
   "id": "b29c8f07-4482-4a14-9355-ce60ca47b9f6",
   "metadata": {},
   "outputs": [],
   "source": []
  }
 ],
 "metadata": {
  "kernelspec": {
   "display_name": "Python 3",
   "language": "python",
   "name": "python3"
  },
  "language_info": {
   "codemirror_mode": {
    "name": "ipython",
    "version": 3
   },
   "file_extension": ".py",
   "mimetype": "text/x-python",
   "name": "python",
   "nbconvert_exporter": "python",
   "pygments_lexer": "ipython3",
   "version": "3.8.8"
  }
 },
 "nbformat": 4,
 "nbformat_minor": 5
}
